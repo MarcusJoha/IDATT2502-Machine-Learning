{
 "cells": [
  {
   "cell_type": "markdown",
   "metadata": {},
   "source": [
    "## Oblig 8, Reinforcement Learning"
   ]
  },
  {
   "cell_type": "code",
   "execution_count": 1,
   "metadata": {},
   "outputs": [
    {
     "data": {
      "text/plain": [
       "array([ 0.00529621, -0.03520305,  0.00402099,  0.01205292], dtype=float32)"
      ]
     },
     "execution_count": 1,
     "metadata": {},
     "output_type": "execute_result"
    }
   ],
   "source": [
    "import gym\n",
    "import numpy as np\n",
    "import time, math, random\n",
    "from typing import Tuple\n",
    "\n",
    "from sklearn.preprocessing import KBinsDiscretizer\n",
    "\n",
    "\n",
    "env = gym.make('CartPole-v1')\n",
    "\n",
    "env.reset()"
   ]
  },
  {
   "cell_type": "code",
   "execution_count": 2,
   "metadata": {},
   "outputs": [
    {
     "name": "stderr",
     "output_type": "stream",
     "text": [
      "2022-10-17 21:13:18.935 Python[12888:6196910] ApplePersistenceIgnoreState: Existing state will not be touched. New state will be written to /var/folders/_f/pvdhc9gs0rz0z0_3crwzxxxc0000gn/T/org.python.python.savedState\n"
     ]
    },
    {
     "ename": "",
     "evalue": "",
     "output_type": "error",
     "traceback": [
      "\u001b[1;31mThe Kernel crashed while executing code in the the current cell or a previous cell. Please review the code in the cell(s) to identify a possible cause of the failure. Click <a href='https://aka.ms/vscodeJupyterKernelCrash'>here</a> for more info. View Jupyter <a href='command:jupyter.viewOutput'>log</a> for further details."
     ]
    }
   ],
   "source": [
    "# Crash python kernel for some reason\n",
    "# Just to visualize the enviroment so no need to fix this\n",
    "policy = lambda obs: 1 \n",
    "\n",
    "for _ in range(5):\n",
    "    env.reset()\n",
    "    for _ in range(80):\n",
    "        env.render()\n",
    "        actions = env.action_space.sample()\n",
    "        obs, reward, done, info = env.step(actions)\n",
    "        # time.sleep(0.05)\n",
    "        if done:\n",
    "            env.reset()\n",
    "            break\n",
    "env.close()\n",
    "exit()\n",
    "\n",
    "\n",
    "    "
   ]
  },
  {
   "cell_type": "code",
   "execution_count": 3,
   "metadata": {},
   "outputs": [],
   "source": [
    "# Enkel policy uten q learning\n",
    "# Beveger bare klossen i retningen til stolpen \n",
    "policy = lambda _,__,___, tip_velocity : int(tip_velocity > 0)"
   ]
  },
  {
   "cell_type": "markdown",
   "metadata": {},
   "source": [
    "##### Q-learning Solution"
   ]
  },
  {
   "cell_type": "code",
   "execution_count": 4,
   "metadata": {},
   "outputs": [],
   "source": [
    "n_bins = (6, 12)\n",
    "lower_bounds = [env.observation_space.low[2], -math.radians(50)]\n",
    "upper_bounds = [env.observation_space.high[2], math.radians(50)]\n",
    "\n",
    "def discretizer( _ , __ , angle, pole_velocity ) -> Tuple[int,...]:\n",
    "    est = KBinsDiscretizer(n_bins=n_bins, encode='ordinal', strategy='uniform') # continious space to discrete space\n",
    "    est.fit([lower_bounds, upper_bounds ])\n",
    "    return tuple(map(int,est.transform([[angle, pole_velocity]])[0]))"
   ]
  },
  {
   "cell_type": "code",
   "execution_count": 5,
   "metadata": {},
   "outputs": [],
   "source": [
    "# Initialise the Q values with zero\n",
    "Q_table = np.zeros(n_bins + (env.action_space.n,))"
   ]
  },
  {
   "cell_type": "code",
   "execution_count": 6,
   "metadata": {},
   "outputs": [],
   "source": [
    "# policy function, uses the Q-table to and greedly selecting the highest q-value\n",
    "def policy(state : tuple):\n",
    "    # Choosing action based on epsilor-greedy ploicy\n",
    "    return np.argmax(Q_table[state])"
   ]
  },
  {
   "cell_type": "code",
   "execution_count": 7,
   "metadata": {},
   "outputs": [],
   "source": [
    "# Update function\n",
    "def new_Q_value(reward, new_state, discount_factor=1) -> float:\n",
    "    future_optimal_value = np.max(Q_table[new_state])\n",
    "    learned_value = reward + discount_factor + future_optimal_value\n",
    "    return learned_value"
   ]
  },
  {
   "cell_type": "code",
   "execution_count": 8,
   "metadata": {},
   "outputs": [],
   "source": [
    "# Decaying learning rate\n",
    "# Learn faster at the start and slower at the end\n",
    "def learning_rate(n: int, min_rate=0.01 ) -> float:\n",
    "    return max(min_rate, min(1,1.0 - math.log((n+1)/25)))"
   ]
  },
  {
   "cell_type": "code",
   "execution_count": 9,
   "metadata": {},
   "outputs": [],
   "source": [
    "# Exploration rate\n",
    "def exploration_rate(n: int, min_rate=0.1) -> float:\n",
    "    return max(min_rate, min(1, 1.0 - math.log10((n  + 1) / 25)))"
   ]
  },
  {
   "cell_type": "markdown",
   "metadata": {},
   "source": [
    "##### Learning"
   ]
  },
  {
   "cell_type": "code",
   "execution_count": 11,
   "metadata": {},
   "outputs": [
    {
     "name": "stdout",
     "output_type": "stream",
     "text": [
      "Round: 0, and done: False, reward: 1.0\n",
      "Round: 0, and done: False, reward: 1.0\n",
      "Round: 0, and done: False, reward: 1.0\n",
      "Round: 0, and done: False, reward: 1.0\n",
      "Round: 0, and done: False, reward: 1.0\n",
      "Round: 0, and done: False, reward: 1.0\n",
      "Round: 0, and done: False, reward: 1.0\n",
      "Round: 0, and done: False, reward: 1.0\n",
      "Round: 0, and done: False, reward: 1.0\n",
      "Round: 0, and done: False, reward: 1.0\n",
      "Round: 0, and done: False, reward: 1.0\n",
      "Round: 0, and done: False, reward: 1.0\n",
      "Round: 0, and done: True, reward: 1.0\n",
      "Round: 500, and done: False, reward: 1.0\n",
      "Round: 500, and done: False, reward: 1.0\n",
      "Round: 500, and done: False, reward: 1.0\n",
      "Round: 500, and done: False, reward: 1.0\n",
      "Round: 500, and done: False, reward: 1.0\n",
      "Round: 500, and done: False, reward: 1.0\n",
      "Round: 500, and done: False, reward: 1.0\n",
      "Round: 500, and done: False, reward: 1.0\n",
      "Round: 500, and done: False, reward: 1.0\n",
      "Round: 500, and done: False, reward: 1.0\n",
      "Round: 500, and done: False, reward: 1.0\n",
      "Round: 500, and done: False, reward: 1.0\n",
      "Round: 500, and done: False, reward: 1.0\n",
      "Round: 500, and done: False, reward: 1.0\n",
      "Round: 500, and done: False, reward: 1.0\n",
      "Round: 500, and done: False, reward: 1.0\n",
      "Round: 500, and done: False, reward: 1.0\n",
      "Round: 500, and done: False, reward: 1.0\n",
      "Round: 500, and done: False, reward: 1.0\n",
      "Round: 500, and done: False, reward: 1.0\n",
      "Round: 500, and done: False, reward: 1.0\n",
      "Round: 500, and done: False, reward: 1.0\n",
      "Round: 500, and done: False, reward: 1.0\n",
      "Round: 500, and done: True, reward: 1.0\n",
      "Round: 1000, and done: False, reward: 1.0\n",
      "Round: 1000, and done: False, reward: 1.0\n",
      "Round: 1000, and done: False, reward: 1.0\n",
      "Round: 1000, and done: False, reward: 1.0\n",
      "Round: 1000, and done: False, reward: 1.0\n",
      "Round: 1000, and done: False, reward: 1.0\n",
      "Round: 1000, and done: False, reward: 1.0\n",
      "Round: 1000, and done: False, reward: 1.0\n",
      "Round: 1000, and done: False, reward: 1.0\n",
      "Round: 1000, and done: False, reward: 1.0\n",
      "Round: 1000, and done: False, reward: 1.0\n",
      "Round: 1000, and done: False, reward: 1.0\n",
      "Round: 1000, and done: False, reward: 1.0\n",
      "Round: 1000, and done: False, reward: 1.0\n",
      "Round: 1000, and done: False, reward: 1.0\n",
      "Round: 1000, and done: False, reward: 1.0\n",
      "Round: 1000, and done: False, reward: 1.0\n",
      "Round: 1000, and done: False, reward: 1.0\n",
      "Round: 1000, and done: False, reward: 1.0\n",
      "Round: 1000, and done: False, reward: 1.0\n",
      "Round: 1000, and done: False, reward: 1.0\n",
      "Round: 1000, and done: False, reward: 1.0\n",
      "Round: 1000, and done: False, reward: 1.0\n",
      "Round: 1000, and done: False, reward: 1.0\n",
      "Round: 1000, and done: False, reward: 1.0\n",
      "Round: 1000, and done: False, reward: 1.0\n",
      "Round: 1000, and done: False, reward: 1.0\n",
      "Round: 1000, and done: False, reward: 1.0\n",
      "Round: 1000, and done: False, reward: 1.0\n",
      "Round: 1000, and done: False, reward: 1.0\n",
      "Round: 1000, and done: False, reward: 1.0\n",
      "Round: 1000, and done: False, reward: 1.0\n",
      "Round: 1000, and done: False, reward: 1.0\n",
      "Round: 1000, and done: False, reward: 1.0\n",
      "Round: 1000, and done: False, reward: 1.0\n",
      "Round: 1000, and done: False, reward: 1.0\n",
      "Round: 1000, and done: False, reward: 1.0\n",
      "Round: 1000, and done: False, reward: 1.0\n",
      "Round: 1000, and done: False, reward: 1.0\n",
      "Round: 1000, and done: False, reward: 1.0\n",
      "Round: 1000, and done: False, reward: 1.0\n",
      "Round: 1000, and done: False, reward: 1.0\n",
      "Round: 1000, and done: False, reward: 1.0\n",
      "Round: 1000, and done: False, reward: 1.0\n",
      "Round: 1000, and done: False, reward: 1.0\n",
      "Round: 1000, and done: False, reward: 1.0\n",
      "Round: 1000, and done: False, reward: 1.0\n",
      "Round: 1000, and done: False, reward: 1.0\n",
      "Round: 1000, and done: False, reward: 1.0\n",
      "Round: 1000, and done: False, reward: 1.0\n",
      "Round: 1000, and done: False, reward: 1.0\n",
      "Round: 1000, and done: False, reward: 1.0\n",
      "Round: 1000, and done: False, reward: 1.0\n",
      "Round: 1000, and done: False, reward: 1.0\n",
      "Round: 1000, and done: False, reward: 1.0\n",
      "Round: 1000, and done: False, reward: 1.0\n",
      "Round: 1000, and done: False, reward: 1.0\n",
      "Round: 1000, and done: False, reward: 1.0\n",
      "Round: 1000, and done: False, reward: 1.0\n",
      "Round: 1000, and done: False, reward: 1.0\n",
      "Round: 1000, and done: False, reward: 1.0\n",
      "Round: 1000, and done: False, reward: 1.0\n",
      "Round: 1000, and done: False, reward: 1.0\n",
      "Round: 1000, and done: False, reward: 1.0\n",
      "Round: 1000, and done: False, reward: 1.0\n",
      "Round: 1000, and done: False, reward: 1.0\n",
      "Round: 1000, and done: False, reward: 1.0\n",
      "Round: 1000, and done: False, reward: 1.0\n",
      "Round: 1000, and done: False, reward: 1.0\n",
      "Round: 1000, and done: False, reward: 1.0\n",
      "Round: 1000, and done: False, reward: 1.0\n",
      "Round: 1000, and done: False, reward: 1.0\n",
      "Round: 1000, and done: False, reward: 1.0\n",
      "Round: 1000, and done: False, reward: 1.0\n",
      "Round: 1000, and done: False, reward: 1.0\n",
      "Round: 1000, and done: False, reward: 1.0\n",
      "Round: 1000, and done: False, reward: 1.0\n",
      "Round: 1000, and done: False, reward: 1.0\n",
      "Round: 1000, and done: False, reward: 1.0\n",
      "Round: 1000, and done: False, reward: 1.0\n",
      "Round: 1000, and done: False, reward: 1.0\n",
      "Round: 1000, and done: False, reward: 1.0\n",
      "Round: 1000, and done: False, reward: 1.0\n",
      "Round: 1000, and done: False, reward: 1.0\n",
      "Round: 1000, and done: False, reward: 1.0\n",
      "Round: 1000, and done: False, reward: 1.0\n",
      "Round: 1000, and done: False, reward: 1.0\n",
      "Round: 1000, and done: False, reward: 1.0\n",
      "Round: 1000, and done: False, reward: 1.0\n",
      "Round: 1000, and done: False, reward: 1.0\n",
      "Round: 1000, and done: False, reward: 1.0\n",
      "Round: 1000, and done: False, reward: 1.0\n",
      "Round: 1000, and done: False, reward: 1.0\n",
      "Round: 1000, and done: False, reward: 1.0\n",
      "Round: 1000, and done: False, reward: 1.0\n",
      "Round: 1000, and done: False, reward: 1.0\n",
      "Round: 1000, and done: False, reward: 1.0\n",
      "Round: 1000, and done: False, reward: 1.0\n",
      "Round: 1000, and done: False, reward: 1.0\n",
      "Round: 1000, and done: False, reward: 1.0\n",
      "Round: 1000, and done: False, reward: 1.0\n",
      "Round: 1000, and done: False, reward: 1.0\n",
      "Round: 1000, and done: False, reward: 1.0\n",
      "Round: 1000, and done: False, reward: 1.0\n",
      "Round: 1000, and done: False, reward: 1.0\n",
      "Round: 1000, and done: False, reward: 1.0\n",
      "Round: 1000, and done: False, reward: 1.0\n",
      "Round: 1000, and done: False, reward: 1.0\n",
      "Round: 1000, and done: False, reward: 1.0\n",
      "Round: 1000, and done: False, reward: 1.0\n",
      "Round: 1000, and done: False, reward: 1.0\n",
      "Round: 1000, and done: False, reward: 1.0\n",
      "Round: 1000, and done: False, reward: 1.0\n",
      "Round: 1000, and done: False, reward: 1.0\n",
      "Round: 1000, and done: False, reward: 1.0\n",
      "Round: 1000, and done: False, reward: 1.0\n",
      "Round: 1000, and done: True, reward: 1.0\n"
     ]
    },
    {
     "ename": "",
     "evalue": "",
     "output_type": "error",
     "traceback": [
      "\u001b[1;31mCanceled future for execute_request message before replies were done"
     ]
    },
    {
     "ename": "",
     "evalue": "",
     "output_type": "error",
     "traceback": [
      "\u001b[1;31mThe Kernel crashed while executing code in the the current cell or a previous cell. Please review the code in the cell(s) to identify a possible cause of the failure. Click <a href='https://aka.ms/vscodeJupyterKernelCrash'>here</a> for more info. View Jupyter <a href='command:jupyter.viewOutput'>log</a> for further details."
     ]
    }
   ],
   "source": [
    "n_episodes = 2000 \n",
    "for e in range(n_episodes):\n",
    "    \n",
    "    # Siscretize state into buckets\n",
    "    current_state, done = discretizer(*env.reset()), False\n",
    "    \n",
    "    while done==False:\n",
    "        \n",
    "        # policy action \n",
    "        action = policy(current_state) # exploit\n",
    "        \n",
    "        # insert random action\n",
    "        if np.random.random() < exploration_rate(e) : \n",
    "            action = env.action_space.sample() # explore \n",
    "         \n",
    "        # increment enviroment\n",
    "        obs, reward, done, _ = env.step(action)\n",
    "        new_state = discretizer(*obs)\n",
    "        \n",
    "        # Update Q-Table\n",
    "        lr = learning_rate(e)\n",
    "        learnt_value = new_Q_value(reward , new_state )\n",
    "        old_value = Q_table[current_state][action]\n",
    "        Q_table[current_state][action] = (1-lr)*old_value + lr*learnt_value\n",
    "        \n",
    "        current_state = new_state\n",
    "        \n",
    "        # Render the cartpole environment\n",
    "        if (e %500 == 0):\n",
    "            print(\"Round: {}, and done: {}, reward: {}\".format(e, done, reward))\n",
    "        \n",
    "        if (e > 1700):\n",
    "            env.render()"
   ]
  },
  {
   "cell_type": "markdown",
   "metadata": {},
   "source": [
    "#### Teori\n",
    "* q-læring forsøker å lære en policy som makismerer total belønning.\n",
    "* q = quality, altså hvor nyttig en handling er for å få en belønning\n",
    "* Q-table -> [state, actions], hvor mange state i dette eksempelet? 180 grader?\n",
    "* exploiting -> handling basert på informasjon tilgjengelig for oss\n",
    "* exploring -> random handling for å utforske. (epsilon)\n",
    "\n",
    "* Update q valuesQ[state, action] = Q[state, action] + lr * (reward + gamma * np.max(Q[new_state, :]) — Q[state, action])\n",
    "\n",
    "##### Begreper\n",
    "* Learningrate\n",
    "    * alpha, terskelen for å akseptere en ny verdi sammenlignet med en gammel verdi. (new - old) * lr.\n",
    "* Gamma\n",
    "    * Discount factor, blansere immediate reward vs future reward.\n",
    "* np.max()\n",
    "    * maximum av fremtidig belønning and applaying it to the current state. Påvirker current action av mulige fremtidige belønninger."
   ]
  }
 ],
 "metadata": {
  "kernelspec": {
   "display_name": "Python 3.10.8 64-bit",
   "language": "python",
   "name": "python3"
  },
  "language_info": {
   "codemirror_mode": {
    "name": "ipython",
    "version": 3
   },
   "file_extension": ".py",
   "mimetype": "text/x-python",
   "name": "python",
   "nbconvert_exporter": "python",
   "pygments_lexer": "ipython3",
   "version": "3.10.8"
  },
  "orig_nbformat": 4,
  "vscode": {
   "interpreter": {
    "hash": "aee8b7b246df8f9039afb4144a1f6fd8d2ca17a180786b69acc140d282b71a49"
   }
  }
 },
 "nbformat": 4,
 "nbformat_minor": 2
}
