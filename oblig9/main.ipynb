{
 "cells": [
  {
   "cell_type": "markdown",
   "metadata": {},
   "source": [
    "### Oblig 9 - Bioinspirerte metoder"
   ]
  },
  {
   "cell_type": "code",
   "execution_count": 74,
   "metadata": {},
   "outputs": [],
   "source": [
    "import math\n",
    "import time\n",
    "from dataclasses import dataclass\n",
    "import matplotlib.pyplot as plt\n",
    "import numpy as np"
   ]
  },
  {
   "cell_type": "code",
   "execution_count": 75,
   "metadata": {},
   "outputs": [],
   "source": [
    "@dataclass\n",
    "class Genetic:\n",
    "    best_fitness: int\n",
    "    average_fitness: float\n",
    "\n",
    "    def __init__(self, best, avg):\n",
    "        self.best_fitness = best\n",
    "        self.average_fitness = avg"
   ]
  },
  {
   "cell_type": "code",
   "execution_count": 76,
   "metadata": {},
   "outputs": [
    {
     "name": "stdout",
     "output_type": "stream",
     "text": [
      "[237 219 245 255 182  94 203 177 117  10]\n"
     ]
    }
   ],
   "source": [
    "print(np.random.randint(0,256,10))"
   ]
  },
  {
   "cell_type": "code",
   "execution_count": 86,
   "metadata": {},
   "outputs": [],
   "source": [
    "class Evolution():\n",
    "    def __init__(self, max = 256, size=10, base = 8):\n",
    "        self.size = size\n",
    "        self.base = base\n",
    "        self.max = max\n",
    "        self.generations = []\n",
    "        self.first_gen = np.random.randint(0, max, size=size) # 10 random tall mellom 0 og 255\n",
    "        self.generations.append(self.first_gen)\n",
    "        self.target = np.random.randint(0, max) # Random tall mellom 0 og 256\n",
    "\n",
    "    # for å oppnå genetisk variasjon\n",
    "    def mutation(self, x: int):\n",
    "        start = np.random.randint(0, math.floor(self.base/2))\n",
    "        end = np.random.randint(start, math.floor(self.base))\n",
    "        x_string = str(bin(x))[2:]\n",
    "\n",
    "        if len(x_string) != self.base:\n",
    "            for i in range(self.base-len(x_string)):\n",
    "                x_string = '0' + x_string\n",
    "\n",
    "        x_string = list(x_string)\n",
    "        for i in range(start, end):\n",
    "            x_string[i] = '1' if x_string[i] == '0' else '0'\n",
    "\n",
    "        return int(''.join(x_string), 2)\n",
    "\n",
    "    # Sexual reproduction,\n",
    "    def crossover(self, x, y):\n",
    "        rand = np.random.randint(0, 2)\n",
    "        x_string = str(bin(x if rand == 0 else y))[2:]\n",
    "        y_string = str(bin(x if rand == 1 else y))[2:]\n",
    "        n = 0\n",
    "        if len(x_string) % 2 == 0:\n",
    "            n = len(x_string) / 2\n",
    "        else:\n",
    "            if self.fitness(x if rand == 0 else y) > self.fitness(x if rand == 1 else y):\n",
    "                n = math.ceil(len(x_string) / 2)\n",
    "            else:\n",
    "                n = math.ceil(len(x_string) / 2)\n",
    "\n",
    "        n = int(n)\n",
    "        child = x_string[:n]+y_string[n:]\n",
    "        return int(child, 2)\n",
    "\n",
    "    # fitness funksjon, 0 for optimal fitness i dette tilfellet\n",
    "    def fitness(self, x: int):\n",
    "        return -np.abs(x - self.target)\n",
    "\n",
    "    def get_new_crossover(self, generation: zip):\n",
    "        new_generation = []\n",
    "        best = 0\n",
    "        second = 0\n",
    "\n",
    "        for i in range(len(generation)):\n",
    "            if best > generation[i][0] > second != generation[i][1]:\n",
    "                second = generation[i][1]\n",
    "\n",
    "            if generation[i][0] > best != generation[i][1]:\n",
    "                second = best\n",
    "                best = generation[i][1]\n",
    "\n",
    "        for i in generation:\n",
    "            new_generation.append(self.crossover(i[1], best))\n",
    "            new_generation.append(self.crossover(i[1], second))\n",
    "\n",
    "        return new_generation\n",
    "\n",
    "    def get_new_generation(self, old_generation):\n",
    "        new_generation = self.get_new_crossover(old_generation)\n",
    "\n",
    "        for i in np.random.randint(0, self.size, size=math.floor(self.size/2)):\n",
    "            new_generation[i] = self.mutation(new_generation[i])\n",
    "\n",
    "        return new_generation\n",
    "\n",
    "    def train(self):\n",
    "        i = 0\n",
    "        train_fitness = []\n",
    "        while True:\n",
    "\n",
    "            fitnesses = [self.fitness(x) for x in self.generations[i]]\n",
    "            train_fitness.append(fitnesses)\n",
    "            # Pick 5 best numbers\n",
    "            generation = sorted(zip(fitnesses, self.generations[i]), reverse=True)[:(math.floor(self.size/2))]\n",
    "            if max(fitnesses) == 0:\n",
    "                # print(self.generations)\n",
    "                return [Genetic(max(f), sum(f)/len(f)) for f in train_fitness], self.generations\n",
    "\n",
    "            new_generation = self.get_new_generation(generation)\n",
    "            self.generations.append(new_generation)\n",
    "\n",
    "            i += 1\n",
    "\n",
    "    def train_time(self):\n",
    "        i = 0\n",
    "        train_time = []\n",
    "\n",
    "        for t in range(20):\n",
    "            # print(i)\n",
    "            start_time = time.time()\n",
    "            while True:\n",
    "\n",
    "                fitnesses = [self.fitness(x) for x in self.generations[i]]\n",
    "                # 5 best\n",
    "                generation = sorted(zip(fitnesses, self.generations[i]), reverse=True)[:(math.floor(self.size/2))]\n",
    "                if max(fitnesses) == 0: # stoppkriterie, funnet!\n",
    "                    end_time = time.time()\n",
    "                    train_time.append(end_time-start_time)\n",
    "                    break\n",
    "        \n",
    "                new_generation = self.get_new_generation(generation)\n",
    "                self.generations.append(new_generation)\n",
    "\n",
    "                i += 1\n",
    "\n",
    "        return sum(train_time)/len(train_time)"
   ]
  },
  {
   "cell_type": "code",
   "execution_count": 78,
   "metadata": {},
   "outputs": [],
   "source": [
    "def print_genetics(genetic, best, average, i):\n",
    "    print(f\"Genetic {i}: \")\n",
    "    print(genetic)\n",
    "    print(f\"Best Fitness: {best}\")\n",
    "    print(f\"Average Fitness: {average}\")\n",
    "    print(\"\")"
   ]
  },
  {
   "cell_type": "code",
   "execution_count": 79,
   "metadata": {},
   "outputs": [],
   "source": [
    "def task1():\n",
    "    evo = Evolution()\n",
    "    x_axis = []\n",
    "    y_axis_best = []\n",
    "    y_axis_avg = []\n",
    "\n",
    "    genetic, genetics = evo.train()\n",
    "\n",
    "    for i in range(len(genetics)):\n",
    "        print_genetics(genetics[i], genetic[i].best_fitness, genetic[i].average_fitness, i)\n",
    "        x_axis.append(i)\n",
    "        y_axis_best.append(genetic[i].best_fitness)\n",
    "        y_axis_avg.append(genetic[i].average_fitness)\n",
    "    \n",
    "    plt.plot(x_axis, y_axis_best, label=\"Best fitness\", color=\"Red\")\n",
    "    plt.plot(x_axis, y_axis_avg, label=\"Average fitness\", color=\"Blue\")\n",
    "    plt.xlabel(\"Runs\")\n",
    "    plt.ylabel(\"Red: Best, Blue: Avg\")\n",
    "    plt.show()\n",
    "    print(f\"Target: {evo.target}\")\n",
    "    print(f\"Runs: {i}\")"
   ]
  },
  {
   "cell_type": "code",
   "execution_count": 87,
   "metadata": {},
   "outputs": [],
   "source": [
    "def task2():\n",
    "    n = np.arange(8, 18)\n",
    "    time  = []\n",
    "\n",
    "    for i in range(8, 18):\n",
    "        evo = Evolution(2**i, 20, i)\n",
    "        time.append(evo.train_time())\n",
    "        print(f\"Done with: {2**i}\")\n",
    "        print(f\"Target: {evo.target}\")\n",
    "    plt.xlabel(\"Bit length\")\n",
    "    plt.ylabel(\"Time (s)\")\n",
    "    plt.plot(n, time)\n",
    "    plt.show()"
   ]
  },
  {
   "cell_type": "code",
   "execution_count": null,
   "metadata": {},
   "outputs": [],
   "source": [
    "task1()"
   ]
  },
  {
   "cell_type": "code",
   "execution_count": null,
   "metadata": {},
   "outputs": [],
   "source": [
    "task2()"
   ]
  }
 ],
 "metadata": {
  "kernelspec": {
   "display_name": "Python 3.10.8 64-bit",
   "language": "python",
   "name": "python3"
  },
  "language_info": {
   "codemirror_mode": {
    "name": "ipython",
    "version": 3
   },
   "file_extension": ".py",
   "mimetype": "text/x-python",
   "name": "python",
   "nbconvert_exporter": "python",
   "pygments_lexer": "ipython3",
   "version": "3.10.8"
  },
  "orig_nbformat": 4,
  "vscode": {
   "interpreter": {
    "hash": "aee8b7b246df8f9039afb4144a1f6fd8d2ca17a180786b69acc140d282b71a49"
   }
  }
 },
 "nbformat": 4,
 "nbformat_minor": 2
}
